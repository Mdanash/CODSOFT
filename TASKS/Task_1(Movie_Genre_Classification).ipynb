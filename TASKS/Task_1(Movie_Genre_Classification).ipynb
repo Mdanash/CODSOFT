{
  "cells": [
    {
      "cell_type": "markdown",
      "source": [
        "# **Movie Genre Classification**"
      ],
      "metadata": {
        "id": "6rN-S8b6tMER"
      }
    },
    {
      "cell_type": "markdown",
      "metadata": {
        "id": "L7prU1bmJPeu"
      },
      "source": [
        "# Import Necessary Libraries"
      ]
    },
    {
      "cell_type": "code",
      "execution_count": 1,
      "metadata": {
        "colab": {
          "base_uri": "https://localhost:8080/"
        },
        "id": "rxwgM-RRHmnz",
        "outputId": "75e81bea-1cb2-442d-b50d-418981af9f98"
      },
      "outputs": [
        {
          "output_type": "stream",
          "name": "stderr",
          "text": [
            "[nltk_data] Downloading package stopwords to /root/nltk_data...\n",
            "[nltk_data]   Package stopwords is already up-to-date!\n",
            "[nltk_data] Downloading package punkt to /root/nltk_data...\n",
            "[nltk_data]   Package punkt is already up-to-date!\n"
          ]
        },
        {
          "output_type": "execute_result",
          "data": {
            "text/plain": [
              "True"
            ]
          },
          "metadata": {},
          "execution_count": 1
        }
      ],
      "source": [
        "import pandas as pd\n",
        "import matplotlib.pyplot as plt\n",
        "import seaborn as sns\n",
        "import re\n",
        "import string\n",
        "from nltk.corpus import stopwords\n",
        "from nltk.stem import LancasterStemmer\n",
        "from sklearn.feature_extraction.text import TfidfVectorizer\n",
        "from sklearn.model_selection import train_test_split\n",
        "from sklearn.naive_bayes import MultinomialNB\n",
        "from sklearn.metrics import accuracy_score, classification_report\n",
        "import nltk\n",
        "nltk.download('stopwords')\n",
        "nltk.download('punkt')"
      ]
    },
    {
      "cell_type": "markdown",
      "metadata": {
        "id": "xfUtbmzmJl_e"
      },
      "source": [
        "# Classify The Dataset According To The Class Labels\n"
      ]
    },
    {
      "cell_type": "code",
      "execution_count": 2,
      "metadata": {
        "id": "Ke9xkpmYEO2X"
      },
      "outputs": [],
      "source": [
        "train_data = pd.read_csv('/content/train_data.csv', sep=':::', names=['Title', 'Genre', 'Description'], engine='python')"
      ]
    },
    {
      "cell_type": "code",
      "execution_count": 3,
      "metadata": {
        "id": "73eudbWPEdzz"
      },
      "outputs": [],
      "source": [
        "test_data = pd.read_csv('/content/test_data.csv', sep=':::', names=['Id', 'Title', 'Description'], engine='python')"
      ]
    },
    {
      "cell_type": "code",
      "execution_count": 4,
      "metadata": {
        "id": "wJSnvj5NEyEb"
      },
      "outputs": [],
      "source": [
        "test_solution = pd.read_csv('/content/test_data_solution.csv', sep=':::',names=['Title', 'Genre', 'Description'], engine='python')"
      ]
    },
    {
      "cell_type": "markdown",
      "source": [
        "# Perform Data Preprocess"
      ],
      "metadata": {
        "id": "8l29wekzjqiQ"
      }
    },
    {
      "cell_type": "code",
      "execution_count": 5,
      "metadata": {
        "id": "4qLIWN3HHr6Z"
      },
      "outputs": [],
      "source": [
        "# Initialize the stemmer and stop words\n",
        "stemmer = LancasterStemmer()\n",
        "stop_words = set(stopwords.words('english'))\n",
        "\n",
        "# Define the clean_text function\n",
        "def clean_text(text):\n",
        "    text = text.lower()  # Lowercase all characters\n",
        "    text = re.sub(r\"[^a-zA-Z+']\", ' ', text)  # Keep only characters\n",
        "    text = re.sub(r'\\s+[a-zA-Z]\\s+', ' ', text + ' ')  # Keep words with length > 1 only\n",
        "    text = \"\".join([i for i in text if i not in string.punctuation])\n",
        "    words = nltk.word_tokenize(text)\n",
        "    stopwords = nltk.corpus.stopwords.words('english')  # Remove stopwords\n",
        "    text = \" \".join([i for i in words if i not in stopwords and len(i) > 2])\n",
        "    text = re.sub(\"\\s[\\s]+\", \" \", text).strip()  # Remove repeated/leading/trailing spaces\n",
        "    return text\n",
        "\n",
        "# Apply the clean_text function to the 'Description' column in the training and test data\n",
        "train_data['Text_cleaning'] = train_data['Description'].apply(clean_text)\n",
        "test_data['Text_cleaning'] = test_data['Description'].apply(clean_text)"
      ]
    },
    {
      "cell_type": "markdown",
      "source": [
        "# Performing TF-IDF Vectorizer"
      ],
      "metadata": {
        "id": "P8Kk8CRkj6Wo"
      }
    },
    {
      "cell_type": "code",
      "execution_count": 6,
      "metadata": {
        "id": "MIv-H9I9ItwL"
      },
      "outputs": [],
      "source": [
        "# Initialize the TF-IDF vectorizer\n",
        "tfidf_vectorizer = TfidfVectorizer()\n",
        "\n",
        "# Fit and transform the training data\n",
        "X_train = tfidf_vectorizer.fit_transform(train_data['Text_cleaning'])\n",
        "\n",
        "# Transform the test data\n",
        "X_test = tfidf_vectorizer.transform(test_data['Text_cleaning'])"
      ]
    },
    {
      "cell_type": "code",
      "execution_count": 7,
      "metadata": {
        "colab": {
          "base_uri": "https://localhost:8080/"
        },
        "id": "D5mw3WFYI4Gi",
        "outputId": "6493df8a-825a-4a3a-df04-297be3087aa7"
      },
      "outputs": [
        {
          "output_type": "stream",
          "name": "stdout",
          "text": [
            "Validation Accuracy: 0.4451720003689016\n",
            "               precision    recall  f1-score   support\n",
            "\n",
            "      action        0.00      0.00      0.00       263\n",
            "       adult        0.00      0.00      0.00       112\n",
            "   adventure        0.00      0.00      0.00       139\n",
            "   animation        0.00      0.00      0.00       104\n",
            "   biography        0.00      0.00      0.00        61\n",
            "      comedy        0.61      0.04      0.07      1443\n",
            "       crime        0.00      0.00      0.00       107\n",
            " documentary        0.54      0.90      0.67      2659\n",
            "       drama        0.38      0.88      0.53      2697\n",
            "      family        0.00      0.00      0.00       150\n",
            "     fantasy        0.00      0.00      0.00        74\n",
            "   game-show        0.00      0.00      0.00        40\n",
            "     history        0.00      0.00      0.00        45\n",
            "      horror        0.00      0.00      0.00       431\n",
            "       music        0.00      0.00      0.00       144\n",
            "     musical        0.00      0.00      0.00        50\n",
            "     mystery        0.00      0.00      0.00        56\n",
            "        news        0.00      0.00      0.00        34\n",
            "  reality-tv        0.00      0.00      0.00       192\n",
            "     romance        0.00      0.00      0.00       151\n",
            "      sci-fi        0.00      0.00      0.00       143\n",
            "       short        0.67      0.00      0.00      1045\n",
            "       sport        0.00      0.00      0.00        93\n",
            "   talk-show        0.00      0.00      0.00        81\n",
            "    thriller        0.00      0.00      0.00       309\n",
            "         war        0.00      0.00      0.00        20\n",
            "     western        0.00      0.00      0.00       200\n",
            "\n",
            "     accuracy                           0.45     10843\n",
            "    macro avg       0.08      0.07      0.05     10843\n",
            " weighted avg       0.37      0.45      0.31     10843\n",
            "\n"
          ]
        },
        {
          "output_type": "stream",
          "name": "stderr",
          "text": [
            "/usr/local/lib/python3.10/dist-packages/sklearn/metrics/_classification.py:1344: UndefinedMetricWarning: Precision and F-score are ill-defined and being set to 0.0 in labels with no predicted samples. Use `zero_division` parameter to control this behavior.\n",
            "  _warn_prf(average, modifier, msg_start, len(result))\n",
            "/usr/local/lib/python3.10/dist-packages/sklearn/metrics/_classification.py:1344: UndefinedMetricWarning: Precision and F-score are ill-defined and being set to 0.0 in labels with no predicted samples. Use `zero_division` parameter to control this behavior.\n",
            "  _warn_prf(average, modifier, msg_start, len(result))\n",
            "/usr/local/lib/python3.10/dist-packages/sklearn/metrics/_classification.py:1344: UndefinedMetricWarning: Precision and F-score are ill-defined and being set to 0.0 in labels with no predicted samples. Use `zero_division` parameter to control this behavior.\n",
            "  _warn_prf(average, modifier, msg_start, len(result))\n"
          ]
        }
      ],
      "source": [
        "X = X_train\n",
        "y = train_data['Genre']\n",
        "X_train, X_val, y_train, y_val = train_test_split(X, y, test_size=0.2, random_state=42)\n",
        "\n",
        "# Initialize and train a Multinomial Naive Bayes classifier\n",
        "classifier = MultinomialNB()\n",
        "classifier.fit(X_train, y_train)\n",
        "\n",
        "# Make predictions on the validation set\n",
        "y_pred = classifier.predict(X_val)\n",
        "\n",
        "# Evaluate the performance of the model\n",
        "accuracy = accuracy_score(y_val, y_pred)\n",
        "print(\"Validation Accuracy:\", accuracy)\n",
        "print(classification_report(y_val, y_pred))"
      ]
    },
    {
      "cell_type": "code",
      "execution_count": 8,
      "metadata": {
        "id": "A7mp4RmXJDRy"
      },
      "outputs": [],
      "source": [
        "# Use the trained model to make predictions on the test data\n",
        "X_test_predictions = classifier.predict(X_test)\n",
        "test_data['Predicted_Genre'] = X_test_predictions"
      ]
    },
    {
      "cell_type": "code",
      "execution_count": 9,
      "metadata": {
        "colab": {
          "base_uri": "https://localhost:8080/"
        },
        "id": "S0hB9aZAJJ1m",
        "outputId": "71487a46-8167-4acd-aefe-453afca1df34"
      },
      "outputs": [
        {
          "output_type": "stream",
          "name": "stdout",
          "text": [
            "            Id                               Title  \\\n",
            "0          \"1                Edgar's Lunch (1998)    \n",
            "1          \"2            La guerra de papá (1977)    \n",
            "2          \"3         Off the Beaten Track (2010)    \n",
            "3          \"4              Meu Amigo Hindu (2015)    \n",
            "4          \"5                   Er nu zhai (1955)    \n",
            "...        ...                                 ...   \n",
            "54195  \"54196    \"\"Tales of Light & Dark\"\" (2013)    \n",
            "54196  \"54197         Der letzte Mohikaner (1965)    \n",
            "54197  \"54198                 Oliver Twink (2007)    \n",
            "54198  \"54199                   Slipstream (1973)    \n",
            "54199  \"54200           Curitiba Zero Grau (2010)    \n",
            "\n",
            "                                             Description  \\\n",
            "0       L.R. Brane loves his life - his car, his apar...   \n",
            "1       Spain, March 1964: Quico is a very naughty ch...   \n",
            "2       One year in the life of Albin and his family ...   \n",
            "3       His father has died, he hasn't spoken with hi...   \n",
            "4       Before he was known internationally as a mart...   \n",
            "...                                                  ...   \n",
            "54195   Covering multiple genres, Tales of Light & Da...   \n",
            "54196   As Alice and Cora Munro attempt to find their...   \n",
            "54197   A movie 169 years in the making. Oliver Twist...   \n",
            "54198   Popular, but mysterious rock D.J Mike Mallard...   \n",
            "54199   Curitiba is a city in movement, with rhythms ...   \n",
            "\n",
            "                                           Text_cleaning Predicted_Genre  \n",
            "0      brane loves life car apartment job especially ...          drama   \n",
            "1      spain march quico naughty child three belongin...          drama   \n",
            "2      one year life albin family shepherds north tra...    documentary   \n",
            "3      father died hasnt spoken brother years serious...          drama   \n",
            "4      known internationally martial arts superstar b...          drama   \n",
            "...                                                  ...             ...  \n",
            "54195  covering multiple genres tales light dark anth...          drama   \n",
            "54196  alice cora munro attempt find father british o...          drama   \n",
            "54197  movie years making oliver twist artful dodger ...          drama   \n",
            "54198  popular mysterious rock mike mallard askew bro...          drama   \n",
            "54199  curitiba city movement rhythms different pulsa...    documentary   \n",
            "\n",
            "[54200 rows x 5 columns]\n"
          ]
        }
      ],
      "source": [
        "# Display the 'test_data' DataFrame with predicted genres\n",
        "print(test_data)"
      ]
    }
  ],
  "metadata": {
    "colab": {
      "provenance": []
    },
    "kernelspec": {
      "display_name": "Python 3",
      "name": "python3"
    },
    "language_info": {
      "name": "python"
    }
  },
  "nbformat": 4,
  "nbformat_minor": 0
}